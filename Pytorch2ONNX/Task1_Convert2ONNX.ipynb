{
  "nbformat": 4,
  "nbformat_minor": 0,
  "metadata": {
    "colab": {
      "provenance": [],
      "gpuType": "T4",
      "authorship_tag": "ABX9TyNkxP8kXrJ3XTBS1jwpFXjh",
      "include_colab_link": true
    },
    "kernelspec": {
      "name": "python3",
      "display_name": "Python 3"
    },
    "language_info": {
      "name": "python"
    },
    "accelerator": "GPU"
  },
  "cells": [
    {
      "cell_type": "markdown",
      "metadata": {
        "id": "view-in-github",
        "colab_type": "text"
      },
      "source": [
        "<a href=\"https://colab.research.google.com/github/nhut-ngnn/OJT-Task/blob/main/Pytorch2ONNX/Task1_Convert2ONNX.ipynb\" target=\"_parent\"><img src=\"https://colab.research.google.com/assets/colab-badge.svg\" alt=\"Open In Colab\"/></a>"
      ]
    },
    {
      "cell_type": "markdown",
      "source": [
        "This Jupyter Notebook is designed to train a simple CNN model using PyTorch and then convert it to the ONNX format for deployment. Below is a breakdown of its main components:"
      ],
      "metadata": {
        "id": "4PfinUysqvxL"
      }
    },
    {
      "cell_type": "markdown",
      "source": [
        "##**1. Installing Dependencies**"
      ],
      "metadata": {
        "id": "Azd5eZ33q0wa"
      }
    },
    {
      "cell_type": "code",
      "execution_count": null,
      "metadata": {
        "colab": {
          "base_uri": "https://localhost:8080/"
        },
        "id": "aXkLeGr0NDES",
        "outputId": "45fbaf7c-0ead-4358-aa71-4575a1d8e4c5"
      },
      "outputs": [
        {
          "output_type": "stream",
          "name": "stdout",
          "text": [
            "Requirement already satisfied: onnx in /usr/local/lib/python3.11/dist-packages (1.17.0)\n",
            "Requirement already satisfied: numpy>=1.20 in /usr/local/lib/python3.11/dist-packages (from onnx) (1.26.4)\n",
            "Requirement already satisfied: protobuf>=3.20.2 in /usr/local/lib/python3.11/dist-packages (from onnx) (4.25.6)\n",
            "Requirement already satisfied: onnxscript in /usr/local/lib/python3.11/dist-packages (0.1.0)\n",
            "Requirement already satisfied: numpy in /usr/local/lib/python3.11/dist-packages (from onnxscript) (1.26.4)\n",
            "Requirement already satisfied: onnx>=1.16 in /usr/local/lib/python3.11/dist-packages (from onnxscript) (1.17.0)\n",
            "Requirement already satisfied: typing_extensions>=4.10 in /usr/local/lib/python3.11/dist-packages (from onnxscript) (4.12.2)\n",
            "Requirement already satisfied: ml_dtypes in /usr/local/lib/python3.11/dist-packages (from onnxscript) (0.4.1)\n",
            "Requirement already satisfied: packaging in /usr/local/lib/python3.11/dist-packages (from onnxscript) (24.2)\n",
            "Requirement already satisfied: protobuf>=3.20.2 in /usr/local/lib/python3.11/dist-packages (from onnx>=1.16->onnxscript) (4.25.6)\n",
            "Requirement already satisfied: onnxruntime in /usr/local/lib/python3.11/dist-packages (1.20.1)\n",
            "Requirement already satisfied: coloredlogs in /usr/local/lib/python3.11/dist-packages (from onnxruntime) (15.0.1)\n",
            "Requirement already satisfied: flatbuffers in /usr/local/lib/python3.11/dist-packages (from onnxruntime) (25.1.24)\n",
            "Requirement already satisfied: numpy>=1.21.6 in /usr/local/lib/python3.11/dist-packages (from onnxruntime) (1.26.4)\n",
            "Requirement already satisfied: packaging in /usr/local/lib/python3.11/dist-packages (from onnxruntime) (24.2)\n",
            "Requirement already satisfied: protobuf in /usr/local/lib/python3.11/dist-packages (from onnxruntime) (4.25.6)\n",
            "Requirement already satisfied: sympy in /usr/local/lib/python3.11/dist-packages (from onnxruntime) (1.13.1)\n",
            "Requirement already satisfied: humanfriendly>=9.1 in /usr/local/lib/python3.11/dist-packages (from coloredlogs->onnxruntime) (10.0)\n",
            "Requirement already satisfied: mpmath<1.4,>=1.1.0 in /usr/local/lib/python3.11/dist-packages (from sympy->onnxruntime) (1.3.0)\n",
            "Requirement already satisfied: onnxruntime_tools in /usr/local/lib/python3.11/dist-packages (1.7.0)\n",
            "Requirement already satisfied: onnx in /usr/local/lib/python3.11/dist-packages (from onnxruntime_tools) (1.17.0)\n",
            "Requirement already satisfied: numpy in /usr/local/lib/python3.11/dist-packages (from onnxruntime_tools) (1.26.4)\n",
            "Requirement already satisfied: coloredlogs in /usr/local/lib/python3.11/dist-packages (from onnxruntime_tools) (15.0.1)\n",
            "Requirement already satisfied: psutil in /usr/local/lib/python3.11/dist-packages (from onnxruntime_tools) (5.9.5)\n",
            "Requirement already satisfied: py-cpuinfo in /usr/local/lib/python3.11/dist-packages (from onnxruntime_tools) (9.0.0)\n",
            "Requirement already satisfied: py3nvml in /usr/local/lib/python3.11/dist-packages (from onnxruntime_tools) (0.2.7)\n",
            "Requirement already satisfied: packaging in /usr/local/lib/python3.11/dist-packages (from onnxruntime_tools) (24.2)\n",
            "Requirement already satisfied: humanfriendly>=9.1 in /usr/local/lib/python3.11/dist-packages (from coloredlogs->onnxruntime_tools) (10.0)\n",
            "Requirement already satisfied: protobuf>=3.20.2 in /usr/local/lib/python3.11/dist-packages (from onnx->onnxruntime_tools) (4.25.6)\n",
            "Requirement already satisfied: xmltodict in /usr/local/lib/python3.11/dist-packages (from py3nvml->onnxruntime_tools) (0.14.2)\n"
          ]
        }
      ],
      "source": [
        "!pip install onnx\n",
        "!pip install onnxscript\n",
        "!pip install onnxruntime\n",
        "!pip install onnxruntime_tools"
      ]
    },
    {
      "cell_type": "markdown",
      "source": [
        "##**2. Importing Required Libraries**"
      ],
      "metadata": {
        "id": "2dcMcbktq6a4"
      }
    },
    {
      "cell_type": "code",
      "source": [
        "import time\n",
        "import onnxruntime\n",
        "import numpy as np\n",
        "from sklearn.metrics import accuracy_score, precision_score, recall_score, f1_score\n",
        "\n",
        "import torch\n",
        "import torch.nn as nn\n",
        "import torch.optim as optim\n",
        "import torchvision\n",
        "import torchvision.transforms as transforms\n",
        "from torch.utils.data import DataLoader\n",
        "import torch.nn.functional as F"
      ],
      "metadata": {
        "id": "b4ClF93BYsfP"
      },
      "execution_count": null,
      "outputs": []
    },
    {
      "cell_type": "markdown",
      "source": [
        "##**3. Defining a CNN Model**"
      ],
      "metadata": {
        "id": "bw32gUWhrK9V"
      }
    },
    {
      "cell_type": "code",
      "source": [
        "class MyModel(nn.Module):\n",
        "    def __init__(self):\n",
        "        super(MyModel, self).__init__()\n",
        "        self.conv1 = nn.Conv2d(1, 6, 5)\n",
        "        self.conv2 = nn.Conv2d(6, 16, 5)\n",
        "        self.fc1 = nn.Linear(16 * 4 * 4, 120)\n",
        "        self.fc2 = nn.Linear(120, 84)\n",
        "        self.fc3 = nn.Linear(84, 10)\n",
        "\n",
        "    def forward(self, x):\n",
        "        x = F.max_pool2d(F.relu(self.conv1(x)), (2, 2))\n",
        "        x = F.max_pool2d(F.relu(self.conv2(x)), 2)\n",
        "        x = torch.flatten(x, 1)\n",
        "        x = F.relu(self.fc1(x))\n",
        "        x = F.relu(self.fc2(x))\n",
        "        x = self.fc3(x)\n",
        "        return x\n"
      ],
      "metadata": {
        "id": "lmh-ZiG1Njpa"
      },
      "execution_count": null,
      "outputs": []
    },
    {
      "cell_type": "markdown",
      "source": [
        "##**3. Preparing the MNIST Dataset**\n",
        "\n",
        "* Downloads and loads the MNIST dataset.\n",
        "* Applies normalization and transforms it to tensors.\n",
        "* Creates data loaders for training and testing"
      ],
      "metadata": {
        "id": "eXUkSUHSrT4h"
      }
    },
    {
      "cell_type": "code",
      "source": [
        "transform = transforms.Compose([transforms.ToTensor(), transforms.Normalize((0.5,), (0.5,))])\n",
        "train_dataset = torchvision.datasets.MNIST(root=\"./data\", train=True, transform=transform, download=True)\n",
        "test_dataset = torchvision.datasets.MNIST(root=\"./data\", train=False, transform=transform, download=True)\n",
        "\n",
        "train_loader = DataLoader(train_dataset, batch_size=64, shuffle=True)\n",
        "test_loader = DataLoader(test_dataset, batch_size=64, shuffle=False)"
      ],
      "metadata": {
        "id": "xoTVfyMySVki"
      },
      "execution_count": null,
      "outputs": []
    },
    {
      "cell_type": "markdown",
      "source": [
        "##**4. Setting Up Training**\n",
        "\n",
        "Defines:\n",
        "* <code>device</code>: CPU for computation.\n",
        "* <code>model</code>: Instance of MyModel.\n",
        "* <code>criterion</code>: Cross-entropy loss function.\n",
        "* <code>optimizer</code>: Adam optimizer."
      ],
      "metadata": {
        "id": "1yz7rCharhl2"
      }
    },
    {
      "cell_type": "code",
      "source": [
        "device = torch.device(\"cpu\")\n",
        "model = MyModel().to(device)\n",
        "criterion = nn.CrossEntropyLoss()\n",
        "optimizer = optim.Adam(model.parameters(), lr=0.001)"
      ],
      "metadata": {
        "id": "HvsB8FhWSqIe"
      },
      "execution_count": null,
      "outputs": []
    },
    {
      "cell_type": "code",
      "source": [
        "num_epochs = 5\n",
        "for epoch in range(num_epochs):\n",
        "    model.train()\n",
        "    running_loss = 0.0\n",
        "    correct = 0\n",
        "    total = 0\n",
        "\n",
        "    for images, labels in train_loader:\n",
        "        images, labels = images.to(device), labels.to(device)\n",
        "\n",
        "        outputs = model(images)\n",
        "        loss = criterion(outputs, labels)\n",
        "\n",
        "        optimizer.zero_grad()\n",
        "        loss.backward()\n",
        "        optimizer.step()\n",
        "\n",
        "        running_loss += loss.item()\n",
        "        _, predicted = outputs.max(1)\n",
        "        total += labels.size(0)\n",
        "        correct += predicted.eq(labels).sum().item()\n",
        "\n",
        "    print(f\"Epoch [{epoch+1}/{num_epochs}], Loss: {running_loss/len(train_loader):.4f}, Accuracy: {100 * correct/total:.2f}%\")\n",
        "\n",
        "model.eval()\n",
        "correct = 0\n",
        "total = 0\n",
        "\n",
        "with torch.no_grad():\n",
        "    for images, labels in test_loader:\n",
        "        images, labels = images.to(device), labels.to(device)\n",
        "        outputs = model(images)\n",
        "        _, predicted = outputs.max(1)\n",
        "        total += labels.size(0)\n",
        "        correct += predicted.eq(labels).sum().item()\n",
        "\n",
        "print(f\"Accuracy on test set: {100 * correct/total:.2f}%\")"
      ],
      "metadata": {
        "id": "-_ruer1ySvo8",
        "outputId": "2af82e5a-1a7a-453e-8da2-ef7eb074fff3",
        "colab": {
          "base_uri": "https://localhost:8080/"
        }
      },
      "execution_count": null,
      "outputs": [
        {
          "output_type": "stream",
          "name": "stdout",
          "text": [
            "Epoch [1/5], Loss: 0.2591, Accuracy: 92.03%\n",
            "Epoch [2/5], Loss: 0.0746, Accuracy: 97.63%\n",
            "Epoch [3/5], Loss: 0.0550, Accuracy: 98.25%\n",
            "Epoch [4/5], Loss: 0.0435, Accuracy: 98.66%\n",
            "Epoch [5/5], Loss: 0.0363, Accuracy: 98.87%\n",
            "Accuracy on test set: 98.60%\n"
          ]
        }
      ]
    },
    {
      "cell_type": "markdown",
      "source": [
        "##**5. Training and ONNX Conversion**\n",
        "\n",
        "Although not shown in the extracted code, it is expected that the notebook includes:\n",
        "* Model training on the MNIST dataset.\n",
        "* Conversion of the trained PyTorch model to ONNX format.\n",
        "* Validation using <code>onnxruntime</code>."
      ],
      "metadata": {
        "id": "b1D7mnHMsGaq"
      }
    },
    {
      "cell_type": "code",
      "source": [
        "\n",
        "dummy_input = torch.randn(1, 1, 28, 28).to(device)\n",
        "onnx_path = \"MNIST_model.onnx\"\n",
        "torch.onnx.export(model, dummy_input, onnx_path,\n",
        "                  input_names=[\"input\"], output_names=[\"output\"],\n",
        "                  dynamic_axes={\"input\": {0: \"batch_size\"}, \"output\": {0: \"batch_size\"}})\n",
        "\n",
        "print(f\"Save completed at file path: {onnx_path}\")\n"
      ],
      "metadata": {
        "colab": {
          "base_uri": "https://localhost:8080/"
        },
        "id": "xR6HoF7nNxeA",
        "outputId": "2fb97765-137b-4ffc-b3bc-01ec065ce0ee"
      },
      "execution_count": null,
      "outputs": [
        {
          "output_type": "stream",
          "name": "stdout",
          "text": [
            "Save completed at file path: MNIST_model.onnx\n"
          ]
        }
      ]
    },
    {
      "cell_type": "code",
      "source": [
        "ort_session_original = onnxruntime.InferenceSession(onnx_path)\n",
        "\n",
        "def inference_pytorch(model, images):\n",
        "    model.eval()\n",
        "    with torch.no_grad():\n",
        "        return model(images.to(device)).cpu().numpy()\n",
        "\n",
        "def inference_onnx(ort_session, images):\n",
        "    images_np = images.cpu().numpy()\n",
        "    ort_inputs = {\"input\": images_np}\n",
        "    ort_outputs = ort_session.run(None, ort_inputs)\n",
        "    return ort_outputs[0]"
      ],
      "metadata": {
        "id": "I2hZUhDnRRO_"
      },
      "execution_count": null,
      "outputs": []
    },
    {
      "cell_type": "code",
      "source": [
        "import time\n",
        "import numpy as np\n",
        "\n",
        "def benchmark_model(inference_fn, model_name, num_runs=100):\n",
        "    total_time = 0\n",
        "    for _ in range(num_runs):\n",
        "        images, _ = next(iter(test_loader))\n",
        "        images = images.to(device)\n",
        "\n",
        "        start_time = time.perf_counter()\n",
        "        inference_fn(images)\n",
        "        end_time = time.perf_counter()\n",
        "\n",
        "        total_time += (end_time - start_time)\n",
        "\n",
        "    avg_time = (total_time / num_runs) * 1000\n",
        "    print(f\"✅ {model_name} Average Inference Time: {avg_time:.4f} ms\")\n",
        "\n",
        "benchmark_model(lambda x: inference_pytorch(model, x), \"PyTorch\")\n",
        "benchmark_model(lambda x: inference_onnx(ort_session_original, x), \"ONNX\")"
      ],
      "metadata": {
        "colab": {
          "base_uri": "https://localhost:8080/"
        },
        "id": "7Hq3E0nhmjl7",
        "outputId": "6144f1bc-32de-4f5e-a4ca-83bea788a818"
      },
      "execution_count": null,
      "outputs": [
        {
          "output_type": "stream",
          "name": "stdout",
          "text": [
            "✅ PyTorch Average Inference Time: 2.7227 ms\n",
            "✅ ONNX Average Inference Time: 1.5038 ms\n"
          ]
        }
      ]
    },
    {
      "cell_type": "code",
      "source": [
        "import torch\n",
        "import numpy as np\n",
        "import onnxruntime\n",
        "\n",
        "sample_image, sample_label = next(iter(test_loader))\n",
        "sample_image = sample_image[:1].to(device)\n",
        "\n",
        "torch_output = model(sample_image).detach().numpy()\n",
        "\n",
        "onnx_output = ort_session_original.run(None, {\"input\": sample_image.numpy()})[0]\n",
        "\n",
        "mse = np.mean((torch_output - onnx_output) ** 2)\n",
        "print(f\"MSE between PyTorch model and ONNX model: {mse}\")"
      ],
      "metadata": {
        "id": "FeIi_GMI-_MQ",
        "colab": {
          "base_uri": "https://localhost:8080/"
        },
        "outputId": "a35a087d-706d-4066-ab2d-b7fddf5866d5"
      },
      "execution_count": null,
      "outputs": [
        {
          "output_type": "stream",
          "name": "stdout",
          "text": [
            "MSE between PyTorch model and ONNX model: 5.492495564266009e-13\n",
            "Cosine similarity between PyTorch model and ONNX model: 1.0\n"
          ]
        }
      ]
    },
    {
      "cell_type": "code",
      "source": [
        "import numpy as np\n",
        "from sklearn.metrics import accuracy_score\n",
        "\n",
        "def evaluate_model(model, dataloader):\n",
        "    model.eval()\n",
        "    all_preds, all_labels = [], []\n",
        "\n",
        "    with torch.no_grad():\n",
        "        for images, labels in dataloader:\n",
        "            images = images.to(device)\n",
        "            outputs = model(images)\n",
        "            preds = torch.argmax(outputs, dim=1).cpu().numpy()\n",
        "            all_preds.extend(preds)\n",
        "            all_labels.extend(labels.cpu().numpy())\n",
        "\n",
        "    return accuracy_score(all_labels, all_preds)\n",
        "\n",
        "pytorch_acc = evaluate_model(model, test_loader)\n",
        "print(f\"PyTorch Accuracy: {pytorch_acc:.12f}\")\n"
      ],
      "metadata": {
        "colab": {
          "base_uri": "https://localhost:8080/"
        },
        "id": "9bD0j_zYiWHL",
        "outputId": "9183dd93-eb5f-49c2-cf20-941f17df9983"
      },
      "execution_count": null,
      "outputs": [
        {
          "output_type": "stream",
          "name": "stdout",
          "text": [
            "PyTorch Accuracy: 0.986000000000\n"
          ]
        }
      ]
    },
    {
      "cell_type": "code",
      "source": [
        "def evaluate_onnx(ort_session, dataloader):\n",
        "    all_preds, all_labels = [], []\n",
        "\n",
        "    for images, labels in dataloader:\n",
        "        ort_inputs = {\"input\": images.cpu().numpy()}\n",
        "        ort_outputs = ort_session.run(None, ort_inputs)\n",
        "        preds = np.argmax(ort_outputs[0], axis=1)\n",
        "        all_preds.extend(preds)\n",
        "        all_labels.extend(labels.numpy())\n",
        "\n",
        "    return accuracy_score(all_labels, all_preds)\n",
        "\n",
        "onnx_acc = evaluate_onnx(ort_session_original, test_loader)\n",
        "print(f\"ONNX Accuracy: {onnx_acc:.12f}\")"
      ],
      "metadata": {
        "colab": {
          "base_uri": "https://localhost:8080/"
        },
        "id": "AQRibO3LiW1l",
        "outputId": "91305b1c-db7e-49f6-96f1-ceae84448f80"
      },
      "execution_count": null,
      "outputs": [
        {
          "output_type": "stream",
          "name": "stdout",
          "text": [
            "ONNX Accuracy: 0.986000000000\n"
          ]
        }
      ]
    },
    {
      "cell_type": "code",
      "source": [],
      "metadata": {
        "id": "VHAi8S3zircC"
      },
      "execution_count": null,
      "outputs": []
    }
  ]
}